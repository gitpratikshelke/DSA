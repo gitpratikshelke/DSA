{
 "cells": [
  {
   "cell_type": "code",
   "execution_count": 2,
   "metadata": {
    "colab": {
     "base_uri": "https://localhost:8080/"
    },
    "id": "z9TXj6sqHHlX",
    "outputId": "ead6c14a-d730-42d6-aefa-dc0616ae8809"
   },
   "outputs": [
    {
     "ename": "ModuleNotFoundError",
     "evalue": "No module named 'nltk'",
     "output_type": "error",
     "traceback": [
      "\u001b[1;31m---------------------------------------------------------------------------\u001b[0m",
      "\u001b[1;31mModuleNotFoundError\u001b[0m                       Traceback (most recent call last)",
      "Cell \u001b[1;32mIn[2], line 1\u001b[0m\n\u001b[1;32m----> 1\u001b[0m \u001b[38;5;28;01mimport\u001b[39;00m \u001b[38;5;21;01mnltk\u001b[39;00m\n\u001b[0;32m      2\u001b[0m nltk\u001b[38;5;241m.\u001b[39mdownload(\u001b[38;5;124m'\u001b[39m\u001b[38;5;124mpunkt\u001b[39m\u001b[38;5;124m'\u001b[39m)\n",
      "\u001b[1;31mModuleNotFoundError\u001b[0m: No module named 'nltk'"
     ]
    }
   ],
   "source": [
    "import nltk\n",
    "nltk.download('punkt')"
   ]
  },
  {
   "cell_type": "code",
   "execution_count": null,
   "metadata": {},
   "outputs": [],
   "source": []
  },
  {
   "cell_type": "code",
   "execution_count": null,
   "metadata": {
    "id": "f6PJjKetHvtw"
   },
   "outputs": [],
   "source": [
    "from nltk.tokenize import sent_tokenize,word_tokenize"
   ]
  },
  {
   "cell_type": "code",
   "execution_count": null,
   "metadata": {
    "id": "hXiYdSFmH3eT"
   },
   "outputs": [],
   "source": [
    "txt = \"\"\"Overall, the AI industry boomed from a few million dollars in 1980 to billions of dollars.\n",
    "In 1988, including hundreds of companies building expert systems, vision systems, robots,\n",
    "and software and hardware specialized for these purposes. Soon after that came a period\n",
    "called the “AIWinter,”. During this period many companies fell by the wayside as they failed to deliver\n",
    "on extravagant promises.\"\"\""
   ]
  },
  {
   "cell_type": "code",
   "execution_count": null,
   "metadata": {
    "colab": {
     "base_uri": "https://localhost:8080/"
    },
    "id": "VSs5DIw0H7ii",
    "outputId": "f6e7441b-1cb3-4087-f2f3-22ac41e3347c"
   },
   "outputs": [],
   "source": [
    "sent_tokenize(txt)"
   ]
  },
  {
   "cell_type": "code",
   "execution_count": null,
   "metadata": {
    "colab": {
     "base_uri": "https://localhost:8080/"
    },
    "id": "fMK_ndLEIL2D",
    "outputId": "cb4ed381-991c-463e-ac80-ac92cbaebb6f"
   },
   "outputs": [],
   "source": [
    "word_tokenize(txt)"
   ]
  },
  {
   "cell_type": "code",
   "execution_count": null,
   "metadata": {
    "colab": {
     "base_uri": "https://localhost:8080/"
    },
    "id": "RvhN1HKlIQhu",
    "outputId": "858696f3-7e48-48a1-b27d-c2f4f983ca01"
   },
   "outputs": [],
   "source": [
    "from nltk.tokenize import TreebankWordTokenizer\n",
    "txt=\"Let's see how it's, working. in such a high #temparature# also\"\n",
    "tokenizer=TreebankWordTokenizer()\n",
    "tokenizer.tokenize(txt)"
   ]
  },
  {
   "cell_type": "code",
   "execution_count": null,
   "metadata": {
    "colab": {
     "base_uri": "https://localhost:8080/"
    },
    "id": "cZwOhGh1J421",
    "outputId": "1676274c-a4d3-4879-ed32-dd22b837949c"
   },
   "outputs": [],
   "source": [
    "from nltk.tokenize import WordPunctTokenizer\n",
    "txt=\"Let's see how it's, working. in such a high #temparature# also\"\n",
    "tokenizer=WordPunctTokenizer()\n",
    "tokenizer.tokenize(txt)\n"
   ]
  },
  {
   "cell_type": "code",
   "execution_count": null,
   "metadata": {
    "colab": {
     "base_uri": "https://localhost:8080/"
    },
    "id": "l2zSkLK5Kx7t",
    "outputId": "9070b18a-0543-4cce-abca-e702c63fdd5d"
   },
   "outputs": [],
   "source": [
    "from nltk.tokenize import RegexpTokenizer\n",
    "tokenizer= RegexpTokenizer(\"[\\w']+\")\n",
    "txt=\"Let's see how it's, working. in such a high #temparature# also 1234\"\n",
    "tokenizer.tokenize(txt)"
   ]
  },
  {
   "cell_type": "code",
   "execution_count": null,
   "metadata": {
    "colab": {
     "base_uri": "https://localhost:8080/"
    },
    "id": "nzolHi8jMPfd",
    "outputId": "9ae041d3-ba53-485e-946b-7e22af891931"
   },
   "outputs": [],
   "source": [
    "from nltk.tokenize import WhitespaceTokenizer\n",
    "txt=\"Let's see how it's, working. in such a high #temparature# also\"\n",
    "tokenizer= WhitespaceTokenizer()\n",
    "tokenizer.tokenize(txt)"
   ]
  },
  {
   "cell_type": "code",
   "execution_count": null,
   "metadata": {
    "colab": {
     "base_uri": "https://localhost:8080/"
    },
    "id": "BNk45VLlPBdI",
    "outputId": "db775fdc-b664-435e-aa32-e313fe6b590b"
   },
   "outputs": [],
   "source": [
    "#remove stopwords\n",
    "\n",
    "import nltk\n",
    "nltk.download('stopwords')"
   ]
  },
  {
   "cell_type": "code",
   "execution_count": null,
   "metadata": {
    "colab": {
     "base_uri": "https://localhost:8080/"
    },
    "id": "TZwfYJaHPSmf",
    "outputId": "5aaa7b09-81f2-4d84-a5e9-8b1081d284fa"
   },
   "outputs": [],
   "source": [
    "from nltk.corpus import stopwords\n",
    "print(stopwords.words('english'))"
   ]
  },
  {
   "cell_type": "code",
   "execution_count": null,
   "metadata": {
    "colab": {
     "base_uri": "https://localhost:8080/"
    },
    "id": "P1ZEB70zQjF8",
    "outputId": "c78f9119-0b86-4803-bb0b-07fe1f46ef6a"
   },
   "outputs": [],
   "source": [
    "#pos tagging\n",
    "nltk.download('stopwords')\n",
    "nltk.download('averaged_perceptron_tagger')\n",
    "from nltk.corpus import stopwords\n",
    "stopwords=nltk.corpus.stopwords.words('english')"
   ]
  },
  {
   "cell_type": "code",
   "execution_count": null,
   "metadata": {
    "id": "xJlCZEQrT2__"
   },
   "outputs": [],
   "source": [
    "txt1 = \"\"\"Question for consideration is whether in the facts of the present case, the dishonour\n",
    "of a post-dated cheque given for repayment of loan installment which is also described\n",
    "as \"security\" in the loan agreement is covered by Section 138 of the Negotiable\n",
    "Instruments Act, 1881 (\"the Act\").\n",
    "\"\"\""
   ]
  },
  {
   "cell_type": "code",
   "execution_count": null,
   "metadata": {
    "colab": {
     "base_uri": "https://localhost:8080/"
    },
    "id": "qrLgbsaMUAGg",
    "outputId": "2f571c25-e68d-4fc5-9da7-de02fd5e4a8b"
   },
   "outputs": [],
   "source": [
    "from nltk.tokenize import WhitespaceTokenizer\n",
    "wrd_lst=WhitespaceTokenizer().tokenize(txt1)\n",
    "print(wrd_lst)"
   ]
  },
  {
   "cell_type": "code",
   "execution_count": null,
   "metadata": {
    "id": "wa5a7JSWUSvO"
   },
   "outputs": [],
   "source": [
    "wrd_list=[]\n",
    "for wrd in wrd_lst:\n",
    "  if wrd not in stopwords:\n",
    "    wrd_list.append(wrd)"
   ]
  },
  {
   "cell_type": "code",
   "execution_count": null,
   "metadata": {
    "id": "InpRhhqOU0KT"
   },
   "outputs": [],
   "source": [
    "pos_dict={}\n",
    "pos_dict=nltk.pos_tag(wrd_list)"
   ]
  },
  {
   "cell_type": "code",
   "execution_count": null,
   "metadata": {
    "colab": {
     "base_uri": "https://localhost:8080/"
    },
    "id": "sUb12xpuVGOP",
    "outputId": "b3fdad3b-986a-41fb-9348-9077573a8ad8"
   },
   "outputs": [],
   "source": [
    "print(pos_dict)"
   ]
  },
  {
   "cell_type": "code",
   "execution_count": null,
   "metadata": {
    "colab": {
     "base_uri": "https://localhost:8080/"
    },
    "id": "oLh-HtOmVPSs",
    "outputId": "5620f3fc-74cb-434d-d292-d6373c817169"
   },
   "outputs": [],
   "source": [
    "for (wrd,pos) in pos_dict:\n",
    "  if(pos in['NN','VBD','NNP','VBZ','VBN']):\n",
    "    print(wrd,pos)"
   ]
  },
  {
   "cell_type": "code",
   "execution_count": null,
   "metadata": {},
   "outputs": [],
   "source": [
    "#remove stopwords\n",
    "import nltk\n",
    "from nltk.tokenize import word_tokenize\n",
    "from nltk.corpus import stopwords"
   ]
  },
  {
   "cell_type": "code",
   "execution_count": null,
   "metadata": {},
   "outputs": [],
   "source": [
    "txt1 = \"\"\"Question for consideration is whether in the facts of the present case, the dishonour\n",
    "of a post-dated cheque given for repayment of loan installment which is also described\n",
    "as \"security\" in the loan agreement is covered by Section 138 of the Negotiable\n",
    "Instruments Act, 1881 (\"the Act\").\n",
    "\"\"\""
   ]
  },
  {
   "cell_type": "code",
   "execution_count": null,
   "metadata": {},
   "outputs": [],
   "source": [
    "tokens=  word_tokenize(txt1)"
   ]
  },
  {
   "cell_type": "code",
   "execution_count": null,
   "metadata": {},
   "outputs": [],
   "source": [
    "stop_words=set(stopwords.words('english'))"
   ]
  },
  {
   "cell_type": "code",
   "execution_count": null,
   "metadata": {},
   "outputs": [],
   "source": [
    "filter_words=[word for word in tokens if word.lower() not in stop_words]"
   ]
  },
  {
   "cell_type": "code",
   "execution_count": null,
   "metadata": {},
   "outputs": [],
   "source": [
    "print(txt1)\n",
    "print(\"\\n words excluding stop words\")\n",
    "print(filter_words)"
   ]
  },
  {
   "cell_type": "code",
   "execution_count": null,
   "metadata": {},
   "outputs": [],
   "source": []
  }
 ],
 "metadata": {
  "colab": {
   "provenance": []
  },
  "kernelspec": {
   "display_name": "Python 3 (ipykernel)",
   "language": "python",
   "name": "python3"
  },
  "language_info": {
   "codemirror_mode": {
    "name": "ipython",
    "version": 3
   },
   "file_extension": ".py",
   "mimetype": "text/x-python",
   "name": "python",
   "nbconvert_exporter": "python",
   "pygments_lexer": "ipython3",
   "version": "3.11.3"
  }
 },
 "nbformat": 4,
 "nbformat_minor": 4
}
